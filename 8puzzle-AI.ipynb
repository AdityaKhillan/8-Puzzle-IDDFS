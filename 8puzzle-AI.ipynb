{
  "nbformat": 4,
  "nbformat_minor": 0,
  "metadata": {
    "colab": {
      "provenance": []
    },
    "kernelspec": {
      "name": "python3",
      "display_name": "Python 3"
    },
    "language_info": {
      "name": "python"
    }
  },
  "cells": [
    {
      "cell_type": "markdown",
      "source": [
        "The 8-puzzle is a classic problem in artificial intelligence that involves sliding tiles in a 3x3 grid to form a desired arrangement. Given a start state and a goal state, the goal is to find the optimal sequence of moves that transforms the start state into the goal state.\n",
        "\n",
        "Copy and edit version:\n",
        "The copy and edit version involves creating a new data structure for the child node by copying the parent node's data and then modifying it to create the new state. This version requires more memory as we are storing a copy of the parent node's data. However, it is easier to implement as we can make changes to the copied data without worrying about undoing them later. This version is particularly useful in situations where the parent node's data is immutable or when it is difficult or time-consuming to undo changes to the parent node.\n",
        "\n",
        "Modify parent state directly version:\n",
        "The second version involves modifying the parent node's state directly to create the child node. This version requires less memory as we are not storing a copy of the parent node's data. However, it is more complex to implement as we need to ensure that we undo the changes made to the parent node to keep it intact. This version is particularly useful in situations where the parent node's data is mutable and easy to modify, and when memory usage is a concern.\n"
      ],
      "metadata": {
        "id": "FgflnQ0zqtK2"
      }
    },
    {
      "cell_type": "code",
      "execution_count": 76,
      "metadata": {
        "id": "ub5rxUfu7PcB"
      },
      "outputs": [],
      "source": [
        "from queue import LifoQueue"
      ]
    },
    {
      "cell_type": "code",
      "source": [
        "# Define the goal state for the 8-puzzle\n",
        "GOAL_STATE = [[1, 2, 3], [4, 5, 6], [7, 8, None]]"
      ],
      "metadata": {
        "id": "2qauJrbcoUSh"
      },
      "execution_count": 77,
      "outputs": []
    },
    {
      "cell_type": "markdown",
      "source": [
        "The **heuristic function** iterates through each tile in the puzzle's current state and compares it to the corresponding tile in the goal state. At the end of the iteration, the count variable represents the number of tiles that are not in their correct position."
      ],
      "metadata": {
        "id": "n5TO8qrGoaD7"
      }
    },
    {
      "cell_type": "code",
      "source": [
        "# Define the heuristic function\n",
        "def heuristic(node):\n",
        "    state = node.state\n",
        "    count = 0\n",
        "    for i in range(3):\n",
        "        for j in range(3):\n",
        "            if state[i][j] != GOAL_STATE[i][j]:\n",
        "                count += 1\n",
        "    return count"
      ],
      "metadata": {
        "id": "2FRfzLGKodkt"
      },
      "execution_count": 78,
      "outputs": []
    },
    {
      "cell_type": "markdown",
      "source": [
        "A **Node** class that represents a node in the search tree for the 8-puzzle problem. Each node in the search tree represents a state of the puzzle, and the search tree is built by expanding nodes and generating their child nodes until the goal state is found."
      ],
      "metadata": {
        "id": "5AIBK7rgognY"
      }
    },
    {
      "cell_type": "code",
      "source": [
        "# Define the Node class\n",
        "class Node:\n",
        "    def __init__(self, state, parent=None, action=None):\n",
        "        self.state = state\n",
        "        self.parent = parent\n",
        "        self.action = action\n",
        "        self.cost = 0\n",
        "        if parent:\n",
        "            self.cost = parent.cost + 1\n",
        "        self.heuristic = heuristic(self)\n",
        "        self.score = self.cost + self.heuristic\n",
        "        self.children = []\n",
        "\n",
        "    # def __lt__(self, other):\n",
        "    #     return self.score < other.score"
      ],
      "metadata": {
        "id": "zIcuAe09phmA"
      },
      "execution_count": 79,
      "outputs": []
    },
    {
      "cell_type": "code",
      "source": [
        "# Define the function to check if the current state is the goal state\n",
        "def is_goal_state(state):\n",
        "    return state == GOAL_STATE"
      ],
      "metadata": {
        "id": "Sc31hYyspuHs"
      },
      "execution_count": 81,
      "outputs": []
    },
    {
      "cell_type": "markdown",
      "source": [
        "The **get_children** function iterates through each action in the ACTIONS list and checks if the new position of the blank tile is valid using the **is_valid_position function**. If the new position is valid, it generates a new state of the puzzle by calling the get_new_state function and creates a new child node with the new state, the current node as its parent, and the action taken to reach it. The child node is added to the list of children, and the function returns the list of children at the end."
      ],
      "metadata": {
        "id": "FFDYWNCepu-d"
      }
    },
    {
      "cell_type": "code",
      "source": [
        "# Define the function to get the children of a node\n",
        "ACTIONS = [(-1, 0), (1, 0), (0, -1), (0, 1)]\n",
        "def get_children(node):\n",
        "    children = []\n",
        "    row, col = get_blank_position(node.state)\n",
        "    for action in ACTIONS:\n",
        "        new_row, new_col = row + action[0], col + action[1]\n",
        "        if is_valid_position(new_row, new_col):\n",
        "            new_state = get_new_state(node.state, row, col, new_row, new_col)\n",
        "            child = Node(new_state, node, action)\n",
        "            children.append(child)\n",
        "    return children"
      ],
      "metadata": {
        "id": "rpmZmQmrpxZM"
      },
      "execution_count": 82,
      "outputs": []
    },
    {
      "cell_type": "markdown",
      "source": [
        "The **get_blank_position** function takes the state of the puzzle as an argument. It returns the row and column indices of the blank tile in the puzzle.\n"
      ],
      "metadata": {
        "id": "4-fRAKJys4cM"
      }
    },
    {
      "cell_type": "code",
      "source": [
        "# Define the function to get the position of the blank tile in a state\n",
        "def get_blank_position(state):\n",
        "    for i in range(3):\n",
        "        for j in range(3):\n",
        "            if state[i][j] is None:\n",
        "                return i, j"
      ],
      "metadata": {
        "id": "HOPB4LWCp1f9"
      },
      "execution_count": 83,
      "outputs": []
    },
    {
      "cell_type": "code",
      "source": [
        "# Define the function to get the new position of the blank tile after a move\n",
        "# def get_new_position(row, col, action):\n",
        "#     if action == \"UP\":\n",
        "#         return row - 1, col\n",
        "#     elif action == \"DOWN\":\n",
        "#         return row + 1, col\n",
        "#     elif action == \"LEFT\":\n",
        "#         return row, col - 1\n",
        "#     elif action == \"RIGHT\":\n",
        "#         return row, col + 1"
      ],
      "metadata": {
        "id": "c0BqdDSQp3t9"
      },
      "execution_count": 116,
      "outputs": []
    },
    {
      "cell_type": "code",
      "source": [
        "# Define the function to check if the new position is valid\n",
        "def is_valid_position(row, col):\n",
        "    return row >= 0 and row < 3 and col >= 0 and col < 3"
      ],
      "metadata": {
        "id": "0wgXeXeQp6hU"
      },
      "execution_count": 85,
      "outputs": []
    },
    {
      "cell_type": "markdown",
      "source": [
        "The get_new_state function takes the current state of the puzzle, the row and column indices of the current position of the blank tile, and the row and column indices of the new position of the blank tile. It returns a new state of the puzzle with the blank tile moved to the new position."
      ],
      "metadata": {
        "id": "eRlRcAPztPSS"
      }
    },
    {
      "cell_type": "code",
      "source": [
        "# Define the function to get the new state after a move\n",
        "def get_new_state(state, row, col, new_row, new_col):\n",
        "    new_state = [row[:] for row in state]\n",
        "    new_state[row][col], new_state[new_row][new_col] = new_state[new_row][new_col], new_state[row][col]\n",
        "    return new_state"
      ],
      "metadata": {
        "id": "RsjD2kDYp9ay"
      },
      "execution_count": 86,
      "outputs": []
    },
    {
      "cell_type": "markdown",
      "source": [
        "The **copy_and_edit** function takes a node as an argument and returns a new node with a copy of the state of the original node.\n",
        "The function first creates a new list new_state by copying each row of the original state\n",
        "Then, the function creates a new Node object using the new_state as the state of the node, the original node as the parent of the node, and the original node's action as the action taken to reach the new state."
      ],
      "metadata": {
        "id": "50rKacT9trWO"
      }
    },
    {
      "cell_type": "code",
      "source": [
        "def copy_and_edit(node):\n",
        "    new_state = [row[:] for row in node.state]\n",
        "    new_node = Node(new_state, node, node.action)\n",
        "    return new_node"
      ],
      "metadata": {
        "id": "ca0qZg7EqAil"
      },
      "execution_count": 87,
      "outputs": []
    },
    {
      "cell_type": "markdown",
      "source": [
        "The function **modify_parent_state** takes a node object as input and modifies its parent state directly by generating its children states.\n",
        "\n",
        "The function the function finds the location of the blank tile in the state. Then generates the children states by applying each of the four possible actions to the parent state. It checks if the resulting position is valid and if so, it creates a new state by swapping the blank tile with the adjacent tile in the specified direction."
      ],
      "metadata": {
        "id": "TI_Iz6cavAHH"
      }
    },
    {
      "cell_type": "code",
      "source": [
        "# def modify_parent_state(node):\n",
        "#   state = node.state\n",
        "#   print(\"state = \", state)\n",
        "#   for i in range(len(state)):\n",
        "#     if i < len(state):\n",
        "#         try:\n",
        "#             row = i\n",
        "#             col = state[i].index(None)\n",
        "#             zero_pos = state[i].index(None)\n",
        "#             break\n",
        "#         except:\n",
        "#             pass\n",
        "#   row = int(row/3)\n",
        "#   col = col % 3\n",
        "#   for action in ACTIONS:\n",
        "#     new_row, new_col = row + action[0], col + action[1]\n",
        "#     if 0 <= new_row < 3 and 0 <= new_col < 3:\n",
        "#       new_pos = new_row * 3 + new_col\n",
        "#       new_state = state.copy()\n",
        "#       new_state[zero_pos], new_state[new_pos] = new_state[new_pos], new_state[zero_pos]\n",
        "#       new_node = Node(new_state, node.parent, action)\n",
        "#       new_node.cost = node.parent.cost + 1\n",
        "#       node.parent.children.append(new_node)\n",
        "# def modify_parent_state(node):\n",
        "#     state = node.state\n",
        "#     print(\"state = \", state)\n",
        "#     for i in range(len(state)):\n",
        "#         try:\n",
        "#             row = i\n",
        "#             col = state[i].index(None)\n",
        "#             zero_pos = row * 3 + col\n",
        "#             break\n",
        "#         except ValueError:\n",
        "#             pass\n",
        "#     else:\n",
        "#         return\n",
        "\n",
        "#     row = int(row / 3)\n",
        "#     col = col % 3\n",
        "\n",
        "#     for action in ACTIONS:\n",
        "#         new_row, new_col = row + action[0], col + action[1]\n",
        "#         if 0 <= new_row < 3 and 0 <= new_col < 3:\n",
        "#             new_pos = new_row * 3 + new_col\n",
        "#             new_state = state.copy()\n",
        "#             new_state[zero_pos], new_state[new_pos] = new_state[new_pos], new_state[zero_pos]\n",
        "#             new_node = Node(new_state, node, action)\n",
        "#             new_node.cost = node.cost + 1\n",
        "#             node.children.append(new_node)\n",
        "def modify_parent_state(node):\n",
        "    state = node.state\n",
        "    if len(state) != 3 or any(len(row) != 3 for row in state):\n",
        "        return\n",
        "    print(\"state = \", state)\n",
        "    for i in range(len(state)):\n",
        "        try:\n",
        "            row = i\n",
        "            col = state[i].index(None)\n",
        "            zero_pos = row * 3 + col\n",
        "            break\n",
        "        except ValueError:\n",
        "            pass\n",
        "    else:\n",
        "        return\n",
        "\n",
        "    row = int(row / 3)\n",
        "    col = col % 3\n",
        "\n",
        "    for action in ACTIONS:\n",
        "        new_row, new_col = row + action[0], col + action[1]\n",
        "        if 0 <= new_row < 3 and 0 <= new_col < 3:\n",
        "            new_pos = new_row * 3 + new_col\n",
        "            new_state = state.copy()\n",
        "            new_state[zero_pos], new_state[new_pos] = new_state[new_pos], new_state[zero_pos]\n",
        "            new_node = Node(new_state, node, action)\n",
        "            new_node.cost = node.cost + 1\n",
        "            node.children.append(new_node)"
      ],
      "metadata": {
        "id": "PFwWDfs5qDK-"
      },
      "execution_count": 113,
      "outputs": []
    },
    {
      "cell_type": "markdown",
      "source": [
        "The function **iddfs_copy_and_edit** performs an iterative deepening depth-first search using the copy_and_edit function to generate child nodes by copying and editing the parent node's state.\n",
        "\n",
        "At each depth level, the function initializes stack and adds the initial node to the queue. It then enters a loop that removes the first node from the queue and checks if it is the goal state. If it is, the function returns the node.\n",
        "\n",
        "If the current_node is not the goal state and its depth is less than the current depth level, the function generates its child nodes using the get_children function. For each child node, it creates a new node using the copy_and_edit function, which creates a copy of the parent node's state and modifies it to represent the child node's state.\n",
        "\n",
        "The new node is then added to the stack, and the search continues until the stack is empty. If the goal state is not found at the current depth level, the function increases the depth level and performs another search until the maximum depth level is reached. "
      ],
      "metadata": {
        "id": "duSBwRgSzHA1"
      }
    },
    {
      "cell_type": "code",
      "source": [
        "def iddfs_copy_and_edit(initial_state):\n",
        "    # print(\"hrllo\")\n",
        "    node = Node(initial_state)\n",
        "    for depth in range(20):\n",
        "        stack = LifoQueue()\n",
        "        stack.put(node)\n",
        "        # print(depth)\n",
        "        while not stack.empty():\n",
        "            current_node = stack.get()\n",
        "            if is_goal_state(current_node.state):\n",
        "                return current_node\n",
        "            if current_node.cost < depth:\n",
        "                for child in get_children(current_node):\n",
        "                    new_node = copy_and_edit(child)\n",
        "                    stack.put(new_node)"
      ],
      "metadata": {
        "id": "H-G1TGIpqGEv"
      },
      "execution_count": 93,
      "outputs": []
    },
    {
      "cell_type": "markdown",
      "source": [
        "The code starts by creating a node object with the initial state and assigns it to the variable node. Then, it enters a loop that iterates over a range of depth values. This is the iterative deepening part of the algorithm, where each iteration increases the depth limit of the search.\n",
        "\n",
        "Inside the loop, the code creates a stack and adds the node to it. The code repeatedly pops a node from the stack and checks if it is a goal state. If it is, the algorithm terminates and returns the current node.\n",
        "\n",
        "If the current node is not a goal state and its depth is less than the depth limit of the current iteration, the algorithm generates its children using the get_children function, and for each child, it applies the modify_parent_state function twice. This function modifies the state of the child by updating its parent reference to the current node and increasing its cost by one. It also undoes the modifications when it is called a second time.\n",
        "\n",
        "Finally, the algorithm pushes each child onto the stack in reverse order of their generation, so that the last child generated is explored first.\n",
        "\n",
        "If the algorithm reaches the end of the loop without finding a goal state, it increases the depth limit and repeats the search with a deeper limit until a goal state is found or the maximum depth limit is reached."
      ],
      "metadata": {
        "id": "53WjJdPSznlg"
      }
    },
    {
      "cell_type": "code",
      "source": [
        "def iddfs_modify_parent_state(initial_state):\n",
        "    node = Node(initial_state)\n",
        "    for depth in range(20):\n",
        "        stack = LifoQueue()\n",
        "        stack.put(node)\n",
        "        # print(depth)\n",
        "        while not stack.empty():\n",
        "            current_node = stack.get()\n",
        "            if is_goal_state(current_node.state):\n",
        "                return current_node\n",
        "            if current_node.cost < depth:\n",
        "                for child in get_children(current_node):\n",
        "                    modify_parent_state(child)\n",
        "                    stack.put(child)\n",
        "                    modify_parent_state(child)  # Undo the modifications\n"
      ],
      "metadata": {
        "id": "qmyyhyIVqI-N"
      },
      "execution_count": 94,
      "outputs": []
    },
    {
      "cell_type": "code",
      "source": [
        "initial_state1 = [[1, 2, 3], [4, None, 6], [7, 5, 8]]\n",
        "initial_state2 = [[1, 2, 3], [None, 4, 6], [7, 5, 8]]\n",
        "\n",
        "print(\"Testing iddfs_copy_and_edit...\")\n",
        "result1 = iddfs_copy_and_edit(initial_state1)\n",
        "if result1 is None:\n",
        "    print(\"No solution found.\")\n",
        "else:\n",
        "    print(\"Solution found at depth {}:\".format(result1.cost))\n",
        "    while result1.parent is not None:\n",
        "        print(result1.state)\n",
        "        result1 = result1.parent\n",
        "    print(result1.state)\n",
        "\n",
        "result2 = iddfs_copy_and_edit(initial_state2)\n",
        "if result2 is None:\n",
        "    print(\"No solution found.\")\n",
        "else:\n",
        "    print(\"Solution found at depth {}:\".format(result2.cost))\n",
        "    while result2.parent is not None:\n",
        "        print(result2.state)\n",
        "        result2 = result2.parent\n",
        "    print(result2.state)\n",
        "\n",
        "print(\"Testing iddfs_modify_parent_state...\")\n",
        "result3 = iddfs_modify_parent_state(initial_state1)\n",
        "if result3 is None:\n",
        "    print(\"No solution found.\")\n",
        "else:\n",
        "    print(\"Solution found at depth {}:\".format(result3.cost))\n",
        "    while result3.parent is not None:\n",
        "        print(result3.state)\n",
        "        result3 = result3.parent\n",
        "    print(result3.state)\n",
        "\n",
        "result4 = iddfs_modify_parent_state(initial_state2)\n",
        "if result4 is None:\n",
        "    print(\"No solution found.\")\n",
        "else:\n",
        "    print(\"Solution found at depth {}:\".format(result4.cost))\n",
        "    while result4.parent is not None:\n",
        "        print(result4.state)\n",
        "        result4 = result4.parent\n",
        "    print(result4.state)"
      ],
      "metadata": {
        "id": "PMsk_6g2qOjH"
      },
      "execution_count": null,
      "outputs": []
    }
  ]
}